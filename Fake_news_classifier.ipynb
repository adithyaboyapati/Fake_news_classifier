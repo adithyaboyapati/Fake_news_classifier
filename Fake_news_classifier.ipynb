{
 "cells": [
  {
   "cell_type": "code",
   "execution_count": 1,
   "metadata": {
    "executionInfo": {
     "elapsed": 7,
     "status": "ok",
     "timestamp": 1646330231160,
     "user": {
      "displayName": "adithya boyapati",
      "photoUrl": "https://lh3.googleusercontent.com/a-/AOh14GhIQeElodUU9wHHEavyJtIVK_ksz-Aeqc8RBSnHRg=s64",
      "userId": "00006628355764397558"
     },
     "user_tz": -330
    },
    "id": "LR_MdqA06Tu0"
   },
   "outputs": [],
   "source": [
    "import pandas as pd\n",
    "import numpy as np\n",
    "import re\n",
    "from nltk.corpus import stopwords\n",
    "from nltk.stem.porter import PorterStemmer\n",
    "from sklearn.feature_extraction.text import TfidfVectorizer\n",
    "from sklearn.model_selection import train_test_split\n",
    "from sklearn.metrics import accuracy_score,classification_report,confusion_matrix"
   ]
  },
  {
   "cell_type": "code",
   "execution_count": 2,
   "metadata": {
    "colab": {
     "base_uri": "https://localhost:8080/"
    },
    "executionInfo": {
     "elapsed": 8,
     "status": "ok",
     "timestamp": 1646330235126,
     "user": {
      "displayName": "adithya boyapati",
      "photoUrl": "https://lh3.googleusercontent.com/a-/AOh14GhIQeElodUU9wHHEavyJtIVK_ksz-Aeqc8RBSnHRg=s64",
      "userId": "00006628355764397558"
     },
     "user_tz": -330
    },
    "id": "bFli1VtB7Azj",
    "outputId": "61e98310-3664-4fd0-e356-d0aad8202b14"
   },
   "outputs": [
    {
     "name": "stderr",
     "output_type": "stream",
     "text": [
      "[nltk_data] Downloading package stopwords to\n",
      "[nltk_data]     C:\\Users\\Adithya\\AppData\\Roaming\\nltk_data...\n",
      "[nltk_data]   Package stopwords is already up-to-date!\n"
     ]
    },
    {
     "data": {
      "text/plain": [
       "True"
      ]
     },
     "execution_count": 2,
     "metadata": {},
     "output_type": "execute_result"
    }
   ],
   "source": [
    "import nltk\n",
    "nltk.download('stopwords')"
   ]
  },
  {
   "cell_type": "code",
   "execution_count": 3,
   "metadata": {
    "executionInfo": {
     "elapsed": 1742,
     "status": "ok",
     "timestamp": 1646330461858,
     "user": {
      "displayName": "adithya boyapati",
      "photoUrl": "https://lh3.googleusercontent.com/a-/AOh14GhIQeElodUU9wHHEavyJtIVK_ksz-Aeqc8RBSnHRg=s64",
      "userId": "00006628355764397558"
     },
     "user_tz": -330
    },
    "id": "oejBsVcg7Mre"
   },
   "outputs": [],
   "source": [
    "df = pd.read_csv('data/train.csv')"
   ]
  },
  {
   "cell_type": "code",
   "execution_count": 4,
   "metadata": {
    "colab": {
     "base_uri": "https://localhost:8080/",
     "height": 250
    },
    "executionInfo": {
     "elapsed": 13,
     "status": "ok",
     "timestamp": 1646330463410,
     "user": {
      "displayName": "adithya boyapati",
      "photoUrl": "https://lh3.googleusercontent.com/a-/AOh14GhIQeElodUU9wHHEavyJtIVK_ksz-Aeqc8RBSnHRg=s64",
      "userId": "00006628355764397558"
     },
     "user_tz": -330
    },
    "id": "b4ywPyps7pcc",
    "outputId": "75b40bfe-25ad-4ae5-8a45-7d5278c50488"
   },
   "outputs": [
    {
     "data": {
      "text/html": [
       "<div>\n",
       "<style scoped>\n",
       "    .dataframe tbody tr th:only-of-type {\n",
       "        vertical-align: middle;\n",
       "    }\n",
       "\n",
       "    .dataframe tbody tr th {\n",
       "        vertical-align: top;\n",
       "    }\n",
       "\n",
       "    .dataframe thead th {\n",
       "        text-align: right;\n",
       "    }\n",
       "</style>\n",
       "<table border=\"1\" class=\"dataframe\">\n",
       "  <thead>\n",
       "    <tr style=\"text-align: right;\">\n",
       "      <th></th>\n",
       "      <th>id</th>\n",
       "      <th>title</th>\n",
       "      <th>author</th>\n",
       "      <th>text</th>\n",
       "      <th>label</th>\n",
       "    </tr>\n",
       "  </thead>\n",
       "  <tbody>\n",
       "    <tr>\n",
       "      <th>0</th>\n",
       "      <td>0</td>\n",
       "      <td>House Dem Aide: We Didn’t Even See Comey’s Let...</td>\n",
       "      <td>Darrell Lucus</td>\n",
       "      <td>House Dem Aide: We Didn’t Even See Comey’s Let...</td>\n",
       "      <td>1</td>\n",
       "    </tr>\n",
       "    <tr>\n",
       "      <th>1</th>\n",
       "      <td>1</td>\n",
       "      <td>FLYNN: Hillary Clinton, Big Woman on Campus - ...</td>\n",
       "      <td>Daniel J. Flynn</td>\n",
       "      <td>Ever get the feeling your life circles the rou...</td>\n",
       "      <td>0</td>\n",
       "    </tr>\n",
       "    <tr>\n",
       "      <th>2</th>\n",
       "      <td>2</td>\n",
       "      <td>Why the Truth Might Get You Fired</td>\n",
       "      <td>Consortiumnews.com</td>\n",
       "      <td>Why the Truth Might Get You Fired October 29, ...</td>\n",
       "      <td>1</td>\n",
       "    </tr>\n",
       "    <tr>\n",
       "      <th>3</th>\n",
       "      <td>3</td>\n",
       "      <td>15 Civilians Killed In Single US Airstrike Hav...</td>\n",
       "      <td>Jessica Purkiss</td>\n",
       "      <td>Videos 15 Civilians Killed In Single US Airstr...</td>\n",
       "      <td>1</td>\n",
       "    </tr>\n",
       "    <tr>\n",
       "      <th>4</th>\n",
       "      <td>4</td>\n",
       "      <td>Iranian woman jailed for fictional unpublished...</td>\n",
       "      <td>Howard Portnoy</td>\n",
       "      <td>Print \\nAn Iranian woman has been sentenced to...</td>\n",
       "      <td>1</td>\n",
       "    </tr>\n",
       "  </tbody>\n",
       "</table>\n",
       "</div>"
      ],
      "text/plain": [
       "   id                                              title              author  \\\n",
       "0   0  House Dem Aide: We Didn’t Even See Comey’s Let...       Darrell Lucus   \n",
       "1   1  FLYNN: Hillary Clinton, Big Woman on Campus - ...     Daniel J. Flynn   \n",
       "2   2                  Why the Truth Might Get You Fired  Consortiumnews.com   \n",
       "3   3  15 Civilians Killed In Single US Airstrike Hav...     Jessica Purkiss   \n",
       "4   4  Iranian woman jailed for fictional unpublished...      Howard Portnoy   \n",
       "\n",
       "                                                text  label  \n",
       "0  House Dem Aide: We Didn’t Even See Comey’s Let...      1  \n",
       "1  Ever get the feeling your life circles the rou...      0  \n",
       "2  Why the Truth Might Get You Fired October 29, ...      1  \n",
       "3  Videos 15 Civilians Killed In Single US Airstr...      1  \n",
       "4  Print \\nAn Iranian woman has been sentenced to...      1  "
      ]
     },
     "execution_count": 4,
     "metadata": {},
     "output_type": "execute_result"
    }
   ],
   "source": [
    "df.head()"
   ]
  },
  {
   "cell_type": "code",
   "execution_count": 5,
   "metadata": {
    "colab": {
     "base_uri": "https://localhost:8080/"
    },
    "executionInfo": {
     "elapsed": 5,
     "status": "ok",
     "timestamp": 1646330465149,
     "user": {
      "displayName": "adithya boyapati",
      "photoUrl": "https://lh3.googleusercontent.com/a-/AOh14GhIQeElodUU9wHHEavyJtIVK_ksz-Aeqc8RBSnHRg=s64",
      "userId": "00006628355764397558"
     },
     "user_tz": -330
    },
    "id": "grLdmEkp7r34",
    "outputId": "682e7849-5360-40a1-8ad9-41d461d1cb24"
   },
   "outputs": [
    {
     "data": {
      "text/plain": [
       "id           0\n",
       "title      558\n",
       "author    1957\n",
       "text        39\n",
       "label        0\n",
       "dtype: int64"
      ]
     },
     "execution_count": 5,
     "metadata": {},
     "output_type": "execute_result"
    }
   ],
   "source": [
    "#Checking for Null values\n",
    "df.isnull().sum()"
   ]
  },
  {
   "cell_type": "code",
   "execution_count": 6,
   "metadata": {
    "executionInfo": {
     "elapsed": 5,
     "status": "ok",
     "timestamp": 1646330466698,
     "user": {
      "displayName": "adithya boyapati",
      "photoUrl": "https://lh3.googleusercontent.com/a-/AOh14GhIQeElodUU9wHHEavyJtIVK_ksz-Aeqc8RBSnHRg=s64",
      "userId": "00006628355764397558"
     },
     "user_tz": -330
    },
    "id": "B3VP-l057usk"
   },
   "outputs": [],
   "source": [
    "#We will replace the null values with blanks\n",
    "\n",
    "df.fillna('',inplace = True)"
   ]
  },
  {
   "cell_type": "code",
   "execution_count": 7,
   "metadata": {
    "colab": {
     "base_uri": "https://localhost:8080/"
    },
    "executionInfo": {
     "elapsed": 8,
     "status": "ok",
     "timestamp": 1646330468021,
     "user": {
      "displayName": "adithya boyapati",
      "photoUrl": "https://lh3.googleusercontent.com/a-/AOh14GhIQeElodUU9wHHEavyJtIVK_ksz-Aeqc8RBSnHRg=s64",
      "userId": "00006628355764397558"
     },
     "user_tz": -330
    },
    "id": "jr8eud7b7wxb",
    "outputId": "617c79ee-6e9d-416f-b0f5-58eee2bdd121"
   },
   "outputs": [
    {
     "data": {
      "text/plain": [
       "id        0\n",
       "title     0\n",
       "author    0\n",
       "text      0\n",
       "label     0\n",
       "dtype: int64"
      ]
     },
     "execution_count": 7,
     "metadata": {},
     "output_type": "execute_result"
    }
   ],
   "source": [
    "df.isnull().sum()"
   ]
  },
  {
   "cell_type": "code",
   "execution_count": 8,
   "metadata": {
    "executionInfo": {
     "elapsed": 4,
     "status": "ok",
     "timestamp": 1646330469676,
     "user": {
      "displayName": "adithya boyapati",
      "photoUrl": "https://lh3.googleusercontent.com/a-/AOh14GhIQeElodUU9wHHEavyJtIVK_ksz-Aeqc8RBSnHRg=s64",
      "userId": "00006628355764397558"
     },
     "user_tz": -330
    },
    "id": "pjm9b0ud8Ovg"
   },
   "outputs": [],
   "source": [
    "# We will do our analysis on author text and label so i was dropping the id and title\n",
    "df.drop(['id','title'],axis = 1,inplace = True)"
   ]
  },
  {
   "cell_type": "code",
   "execution_count": 9,
   "metadata": {
    "executionInfo": {
     "elapsed": 3,
     "status": "ok",
     "timestamp": 1646330471215,
     "user": {
      "displayName": "adithya boyapati",
      "photoUrl": "https://lh3.googleusercontent.com/a-/AOh14GhIQeElodUU9wHHEavyJtIVK_ksz-Aeqc8RBSnHRg=s64",
      "userId": "00006628355764397558"
     },
     "user_tz": -330
    },
    "id": "Oql3NLWy7yj4"
   },
   "outputs": [],
   "source": [
    "# We will combine author and text and make them a single column\n",
    "\n",
    "df['content'] = df['author']+ ' '+ df['text']"
   ]
  },
  {
   "cell_type": "code",
   "execution_count": 10,
   "metadata": {
    "colab": {
     "base_uri": "https://localhost:8080/",
     "height": 250
    },
    "executionInfo": {
     "elapsed": 9,
     "status": "ok",
     "timestamp": 1646330472612,
     "user": {
      "displayName": "adithya boyapati",
      "photoUrl": "https://lh3.googleusercontent.com/a-/AOh14GhIQeElodUU9wHHEavyJtIVK_ksz-Aeqc8RBSnHRg=s64",
      "userId": "00006628355764397558"
     },
     "user_tz": -330
    },
    "id": "_UfVjanI70-S",
    "outputId": "ecd0556e-3521-44be-d6d3-e8fbfca32a09"
   },
   "outputs": [
    {
     "data": {
      "text/html": [
       "<div>\n",
       "<style scoped>\n",
       "    .dataframe tbody tr th:only-of-type {\n",
       "        vertical-align: middle;\n",
       "    }\n",
       "\n",
       "    .dataframe tbody tr th {\n",
       "        vertical-align: top;\n",
       "    }\n",
       "\n",
       "    .dataframe thead th {\n",
       "        text-align: right;\n",
       "    }\n",
       "</style>\n",
       "<table border=\"1\" class=\"dataframe\">\n",
       "  <thead>\n",
       "    <tr style=\"text-align: right;\">\n",
       "      <th></th>\n",
       "      <th>author</th>\n",
       "      <th>text</th>\n",
       "      <th>label</th>\n",
       "      <th>content</th>\n",
       "    </tr>\n",
       "  </thead>\n",
       "  <tbody>\n",
       "    <tr>\n",
       "      <th>0</th>\n",
       "      <td>Darrell Lucus</td>\n",
       "      <td>House Dem Aide: We Didn’t Even See Comey’s Let...</td>\n",
       "      <td>1</td>\n",
       "      <td>Darrell Lucus House Dem Aide: We Didn’t Even S...</td>\n",
       "    </tr>\n",
       "    <tr>\n",
       "      <th>1</th>\n",
       "      <td>Daniel J. Flynn</td>\n",
       "      <td>Ever get the feeling your life circles the rou...</td>\n",
       "      <td>0</td>\n",
       "      <td>Daniel J. Flynn Ever get the feeling your life...</td>\n",
       "    </tr>\n",
       "    <tr>\n",
       "      <th>2</th>\n",
       "      <td>Consortiumnews.com</td>\n",
       "      <td>Why the Truth Might Get You Fired October 29, ...</td>\n",
       "      <td>1</td>\n",
       "      <td>Consortiumnews.com Why the Truth Might Get You...</td>\n",
       "    </tr>\n",
       "    <tr>\n",
       "      <th>3</th>\n",
       "      <td>Jessica Purkiss</td>\n",
       "      <td>Videos 15 Civilians Killed In Single US Airstr...</td>\n",
       "      <td>1</td>\n",
       "      <td>Jessica Purkiss Videos 15 Civilians Killed In ...</td>\n",
       "    </tr>\n",
       "    <tr>\n",
       "      <th>4</th>\n",
       "      <td>Howard Portnoy</td>\n",
       "      <td>Print \\nAn Iranian woman has been sentenced to...</td>\n",
       "      <td>1</td>\n",
       "      <td>Howard Portnoy Print \\nAn Iranian woman has be...</td>\n",
       "    </tr>\n",
       "  </tbody>\n",
       "</table>\n",
       "</div>"
      ],
      "text/plain": [
       "               author                                               text  \\\n",
       "0       Darrell Lucus  House Dem Aide: We Didn’t Even See Comey’s Let...   \n",
       "1     Daniel J. Flynn  Ever get the feeling your life circles the rou...   \n",
       "2  Consortiumnews.com  Why the Truth Might Get You Fired October 29, ...   \n",
       "3     Jessica Purkiss  Videos 15 Civilians Killed In Single US Airstr...   \n",
       "4      Howard Portnoy  Print \\nAn Iranian woman has been sentenced to...   \n",
       "\n",
       "   label                                            content  \n",
       "0      1  Darrell Lucus House Dem Aide: We Didn’t Even S...  \n",
       "1      0  Daniel J. Flynn Ever get the feeling your life...  \n",
       "2      1  Consortiumnews.com Why the Truth Might Get You...  \n",
       "3      1  Jessica Purkiss Videos 15 Civilians Killed In ...  \n",
       "4      1  Howard Portnoy Print \\nAn Iranian woman has be...  "
      ]
     },
     "execution_count": 10,
     "metadata": {},
     "output_type": "execute_result"
    }
   ],
   "source": [
    "df.head()"
   ]
  },
  {
   "cell_type": "code",
   "execution_count": 11,
   "metadata": {
    "executionInfo": {
     "elapsed": 4,
     "status": "ok",
     "timestamp": 1646330474037,
     "user": {
      "displayName": "adithya boyapati",
      "photoUrl": "https://lh3.googleusercontent.com/a-/AOh14GhIQeElodUU9wHHEavyJtIVK_ksz-Aeqc8RBSnHRg=s64",
      "userId": "00006628355764397558"
     },
     "user_tz": -330
    },
    "id": "F6OQZ1iU72bo"
   },
   "outputs": [],
   "source": [
    "# Dropping the author and text column\n",
    "df.drop(['author','text'],axis = 1,inplace = True)"
   ]
  },
  {
   "cell_type": "code",
   "execution_count": 12,
   "metadata": {
    "colab": {
     "base_uri": "https://localhost:8080/",
     "height": 206
    },
    "executionInfo": {
     "elapsed": 7,
     "status": "ok",
     "timestamp": 1646330475502,
     "user": {
      "displayName": "adithya boyapati",
      "photoUrl": "https://lh3.googleusercontent.com/a-/AOh14GhIQeElodUU9wHHEavyJtIVK_ksz-Aeqc8RBSnHRg=s64",
      "userId": "00006628355764397558"
     },
     "user_tz": -330
    },
    "id": "NKenncwL730w",
    "outputId": "80b8e486-53c0-4593-9b53-7a7c80ea5f30"
   },
   "outputs": [
    {
     "data": {
      "text/html": [
       "<div>\n",
       "<style scoped>\n",
       "    .dataframe tbody tr th:only-of-type {\n",
       "        vertical-align: middle;\n",
       "    }\n",
       "\n",
       "    .dataframe tbody tr th {\n",
       "        vertical-align: top;\n",
       "    }\n",
       "\n",
       "    .dataframe thead th {\n",
       "        text-align: right;\n",
       "    }\n",
       "</style>\n",
       "<table border=\"1\" class=\"dataframe\">\n",
       "  <thead>\n",
       "    <tr style=\"text-align: right;\">\n",
       "      <th></th>\n",
       "      <th>label</th>\n",
       "      <th>content</th>\n",
       "    </tr>\n",
       "  </thead>\n",
       "  <tbody>\n",
       "    <tr>\n",
       "      <th>0</th>\n",
       "      <td>1</td>\n",
       "      <td>Darrell Lucus House Dem Aide: We Didn’t Even S...</td>\n",
       "    </tr>\n",
       "    <tr>\n",
       "      <th>1</th>\n",
       "      <td>0</td>\n",
       "      <td>Daniel J. Flynn Ever get the feeling your life...</td>\n",
       "    </tr>\n",
       "    <tr>\n",
       "      <th>2</th>\n",
       "      <td>1</td>\n",
       "      <td>Consortiumnews.com Why the Truth Might Get You...</td>\n",
       "    </tr>\n",
       "    <tr>\n",
       "      <th>3</th>\n",
       "      <td>1</td>\n",
       "      <td>Jessica Purkiss Videos 15 Civilians Killed In ...</td>\n",
       "    </tr>\n",
       "    <tr>\n",
       "      <th>4</th>\n",
       "      <td>1</td>\n",
       "      <td>Howard Portnoy Print \\nAn Iranian woman has be...</td>\n",
       "    </tr>\n",
       "  </tbody>\n",
       "</table>\n",
       "</div>"
      ],
      "text/plain": [
       "   label                                            content\n",
       "0      1  Darrell Lucus House Dem Aide: We Didn’t Even S...\n",
       "1      0  Daniel J. Flynn Ever get the feeling your life...\n",
       "2      1  Consortiumnews.com Why the Truth Might Get You...\n",
       "3      1  Jessica Purkiss Videos 15 Civilians Killed In ...\n",
       "4      1  Howard Portnoy Print \\nAn Iranian woman has be..."
      ]
     },
     "execution_count": 12,
     "metadata": {},
     "output_type": "execute_result"
    }
   ],
   "source": [
    "df.head()"
   ]
  },
  {
   "cell_type": "code",
   "execution_count": 13,
   "metadata": {
    "colab": {
     "base_uri": "https://localhost:8080/"
    },
    "executionInfo": {
     "elapsed": 384,
     "status": "ok",
     "timestamp": 1646334790203,
     "user": {
      "displayName": "adithya boyapati",
      "photoUrl": "https://lh3.googleusercontent.com/a-/AOh14GhIQeElodUU9wHHEavyJtIVK_ksz-Aeqc8RBSnHRg=s64",
      "userId": "00006628355764397558"
     },
     "user_tz": -330
    },
    "id": "7XgHbMU894M9",
    "outputId": "8a4154ad-1d92-4045-f02c-7433577bb759"
   },
   "outputs": [
    {
     "data": {
      "text/plain": [
       "1    10413\n",
       "0    10387\n",
       "Name: label, dtype: int64"
      ]
     },
     "execution_count": 13,
     "metadata": {},
     "output_type": "execute_result"
    }
   ],
   "source": [
    "df.label.value_counts()"
   ]
  },
  {
   "cell_type": "code",
   "execution_count": 14,
   "metadata": {
    "executionInfo": {
     "elapsed": 366,
     "status": "ok",
     "timestamp": 1646330503963,
     "user": {
      "displayName": "adithya boyapati",
      "photoUrl": "https://lh3.googleusercontent.com/a-/AOh14GhIQeElodUU9wHHEavyJtIVK_ksz-Aeqc8RBSnHRg=s64",
      "userId": "00006628355764397558"
     },
     "user_tz": -330
    },
    "id": "pvmaPRmV75zi"
   },
   "outputs": [],
   "source": [
    "# separating the data & label\n",
    "X = df.content\n",
    "Y = df.label"
   ]
  },
  {
   "cell_type": "code",
   "execution_count": 15,
   "metadata": {
    "colab": {
     "base_uri": "https://localhost:8080/"
    },
    "executionInfo": {
     "elapsed": 351,
     "status": "ok",
     "timestamp": 1646330532659,
     "user": {
      "displayName": "adithya boyapati",
      "photoUrl": "https://lh3.googleusercontent.com/a-/AOh14GhIQeElodUU9wHHEavyJtIVK_ksz-Aeqc8RBSnHRg=s64",
      "userId": "00006628355764397558"
     },
     "user_tz": -330
    },
    "id": "ki3_LV5o8XWm",
    "outputId": "19b64758-0928-4fc8-88d7-410a59033f83"
   },
   "outputs": [
    {
     "name": "stdout",
     "output_type": "stream",
     "text": [
      "0        Darrell Lucus House Dem Aide: We Didn’t Even S...\n",
      "1        Daniel J. Flynn Ever get the feeling your life...\n",
      "2        Consortiumnews.com Why the Truth Might Get You...\n",
      "3        Jessica Purkiss Videos 15 Civilians Killed In ...\n",
      "4        Howard Portnoy Print \\nAn Iranian woman has be...\n",
      "                               ...                        \n",
      "20795    Jerome Hudson Rapper T. I. unloaded on black c...\n",
      "20796    Benjamin Hoffman When the Green Bay Packers lo...\n",
      "20797    Michael J. de la Merced and Rachel Abrams The ...\n",
      "20798    Alex Ansary NATO, Russia To Hold Parallel Exer...\n",
      "20799    David Swanson   David Swanson is an author, ac...\n",
      "Name: content, Length: 20800, dtype: object\n",
      "0        1\n",
      "1        0\n",
      "2        1\n",
      "3        1\n",
      "4        1\n",
      "        ..\n",
      "20795    0\n",
      "20796    0\n",
      "20797    0\n",
      "20798    1\n",
      "20799    1\n",
      "Name: label, Length: 20800, dtype: int64\n"
     ]
    }
   ],
   "source": [
    "print(X)\n",
    "print(Y)"
   ]
  },
  {
   "cell_type": "markdown",
   "metadata": {
    "id": "5qKk-Re98p1z"
   },
   "source": [
    "Stemming:\n",
    "\n",
    "Stemming is the process of reducing a word to its Root word\n",
    "\n",
    "example:\n",
    "actor, actress, acting --> act"
   ]
  },
  {
   "cell_type": "code",
   "execution_count": 16,
   "metadata": {
    "executionInfo": {
     "elapsed": 398,
     "status": "ok",
     "timestamp": 1646330585482,
     "user": {
      "displayName": "adithya boyapati",
      "photoUrl": "https://lh3.googleusercontent.com/a-/AOh14GhIQeElodUU9wHHEavyJtIVK_ksz-Aeqc8RBSnHRg=s64",
      "userId": "00006628355764397558"
     },
     "user_tz": -330
    },
    "id": "BcOT1ZXN8k4s"
   },
   "outputs": [],
   "source": [
    "port_stem = PorterStemmer()"
   ]
  },
  {
   "cell_type": "code",
   "execution_count": 17,
   "metadata": {
    "executionInfo": {
     "elapsed": 3,
     "status": "ok",
     "timestamp": 1646330587147,
     "user": {
      "displayName": "adithya boyapati",
      "photoUrl": "https://lh3.googleusercontent.com/a-/AOh14GhIQeElodUU9wHHEavyJtIVK_ksz-Aeqc8RBSnHRg=s64",
      "userId": "00006628355764397558"
     },
     "user_tz": -330
    },
    "id": "joqkt0Sg8rrD"
   },
   "outputs": [],
   "source": [
    "def stemming(content):\n",
    "    stemmed_content = re.sub('[^a-zA-Z]',' ',content)\n",
    "    stemmed_content = stemmed_content.lower()\n",
    "    stemmed_content = stemmed_content.split()\n",
    "    stemmed_content = [port_stem.stem(word) for word in stemmed_content if not word in stopwords.words('english')]\n",
    "    stemmed_content = ' '.join(stemmed_content)\n",
    "    return stemmed_content"
   ]
  },
  {
   "cell_type": "code",
   "execution_count": null,
   "metadata": {
    "executionInfo": {
     "elapsed": 1869432,
     "status": "ok",
     "timestamp": 1646332499719,
     "user": {
      "displayName": "adithya boyapati",
      "photoUrl": "https://lh3.googleusercontent.com/a-/AOh14GhIQeElodUU9wHHEavyJtIVK_ksz-Aeqc8RBSnHRg=s64",
      "userId": "00006628355764397558"
     },
     "user_tz": -330
    },
    "id": "0_C_TGbm8yPj"
   },
   "outputs": [],
   "source": [
    "df['content'] = df['content'].apply(stemming)"
   ]
  },
  {
   "cell_type": "code",
   "execution_count": 34,
   "metadata": {
    "colab": {
     "base_uri": "https://localhost:8080/"
    },
    "executionInfo": {
     "elapsed": 397,
     "status": "ok",
     "timestamp": 1646332747752,
     "user": {
      "displayName": "adithya boyapati",
      "photoUrl": "https://lh3.googleusercontent.com/a-/AOh14GhIQeElodUU9wHHEavyJtIVK_ksz-Aeqc8RBSnHRg=s64",
      "userId": "00006628355764397558"
     },
     "user_tz": -330
    },
    "id": "sg7ZX_9X84XY",
    "outputId": "29ac0904-9926-43bc-9d62-6c6d01e894fd"
   },
   "outputs": [
    {
     "name": "stdout",
     "output_type": "stream",
     "text": [
      "0        darrel lucu hous dem aid even see comey letter...\n",
      "1        daniel j flynn ever get feel life circl rounda...\n",
      "2        consortiumnew com truth might get fire octob t...\n",
      "3        jessica purkiss video civilian kill singl us a...\n",
      "4        howard portnoy print iranian woman sentenc six...\n",
      "                               ...                        \n",
      "20795    jerom hudson rapper unload black celebr met do...\n",
      "20796    benjamin hoffman green bay packer lost washing...\n",
      "20797    michael j de la merc rachel abram maci today g...\n",
      "20798    alex ansari nato russia hold parallel exercis ...\n",
      "20799    david swanson david swanson author activist jo...\n",
      "Name: content, Length: 20800, dtype: object\n"
     ]
    }
   ],
   "source": [
    "print(df['content'])"
   ]
  },
  {
   "cell_type": "code",
   "execution_count": 114,
   "metadata": {
    "executionInfo": {
     "elapsed": 360,
     "status": "ok",
     "timestamp": 1646333805634,
     "user": {
      "displayName": "adithya boyapati",
      "photoUrl": "https://lh3.googleusercontent.com/a-/AOh14GhIQeElodUU9wHHEavyJtIVK_ksz-Aeqc8RBSnHRg=s64",
      "userId": "00006628355764397558"
     },
     "user_tz": -330
    },
    "id": "3I5OGFi79TUC"
   },
   "outputs": [],
   "source": [
    "X = df.content.values\n",
    "Y = df.label.values"
   ]
  },
  {
   "cell_type": "code",
   "execution_count": 115,
   "metadata": {
    "colab": {
     "base_uri": "https://localhost:8080/"
    },
    "executionInfo": {
     "elapsed": 13,
     "status": "ok",
     "timestamp": 1646333807204,
     "user": {
      "displayName": "adithya boyapati",
      "photoUrl": "https://lh3.googleusercontent.com/a-/AOh14GhIQeElodUU9wHHEavyJtIVK_ksz-Aeqc8RBSnHRg=s64",
      "userId": "00006628355764397558"
     },
     "user_tz": -330
    },
    "id": "F1waD4Wc9ZkS",
    "outputId": "e5113e93-3037-4b52-f99b-b0f6819413ca"
   },
   "outputs": [
    {
     "name": "stdout",
     "output_type": "stream",
     "text": [
      "['darrel lucu hous dem aid even see comey letter jason chaffetz tweet darrel lucu octob subscrib jason chaffetz stump american fork utah imag courtesi michael jolley avail creativ common licens apolog keith olbermann doubt worst person world week fbi director jame comey accord hous democrat aid look like also know second worst person well turn comey sent infam letter announc fbi look email may relat hillari clinton email server rank democrat relev committe hear comey found via tweet one republican committe chairmen know comey notifi republican chairmen democrat rank member hous intellig judiciari oversight committe agenc review email recent discov order see contain classifi inform long letter went oversight committe chairman jason chaffetz set polit world ablaz tweet fbi dir inform fbi learn exist email appear pertin investig case reopen jason chaffetz jasoninthehous octob cours know case comey actual say review email light unrel case know anthoni weiner sext teenag appar littl thing fact matter chaffetz utah republican alreadi vow initi raft investig hillari win least two year worth possibl entir term worth appar chaffetz thought fbi alreadi work result tweet briefli roil nation cooler head realiz dud accord senior hous democrat aid misread letter may least chaffetz sin aid told shareblu boss democrat even know comey letter time found check twitter democrat rank member relev committe receiv comey letter republican chairmen fact democrat rank member receiv chairman oversight govern reform committe jason chaffetz tweet made public let see got right fbi director tell chaffetz gop committe chairmen major develop potenti polit explos investig neither chaffetz colleagu courtesi let democrat counterpart know instead accord aid made find twitter alreadi talk daili ko comey provid advanc notic letter chaffetz republican give time turn spin machin may make good theater noth far even suggest case noth far suggest comey anyth grossli incompet tone deaf suggest howev chaffetz act way make dan burton darrel issa look like model respons bipartisanship even decenc notifi rank member elijah cum someth explos trampl basic standard fair know grant like chaffetz answer sit ridicul republican district anchor provo orem cook partisan vote index r gave mitt romney punish percent vote moreov republican hous leadership given full support chaffetz plan fish expedit mean turn hot light textbook exampl hous becom republican control also second worst person world darrel lucu darrel someth graduat univers north carolina consid journalist old school attempt turn member religi right colleg succeed turn religi right worst nightmar charismat christian unapologet liber desir stand scare silenc increas surviv abus three year marriag may know daili ko christian dem nc follow twitter darrelllucu connect facebook click buy darrel mello yello connect'\n",
      " 'daniel j flynn ever get feel life circl roundabout rather head straight line toward intend destin hillari clinton remain big woman campu leafi liber wellesley massachusett everywher els vote like inaugur dress remaind day way miss havisham forev wore wed dress speak great expect hillari rodham overflow year ago first address wellesley graduat class presid colleg inform gather student need debat far could ascertain spokesman kind like democrat primari minu term unknown even seven sister school glad miss adam made clear speak today us us miss rodham told classmat appoint edger bergen charli mccarthi mortim snerd attend bespectacl granni glass award matronli wisdom least john lennon wisdom took issu previou speaker despit becom first win elect seat u senat sinc reconstruct edward brook came critic call empathi goal protestor critic tactic though clinton senior thesi saul alinski lament black power demagogu elitist arrog repress intoler within new left similar word come republican necessit brief rebutt trust rodham iron observ one word ask class rehears want say everyon came said talk trust talk lack trust us way feel other talk trust bust say say feel permeat gener perhap even understood distrust trust bust certainli bust clinton plan certainli even understand peopl distrust whitewat travelg vast conspiraci benghazi miss email clinton found distrust voic friday load compromis road broaden polit horizon distrust american peopl trump edg percent percent question immedi prior novemb elect stood major reason close horizon clinton describ vanquish support embrac lie con altern fact assault truth reason fail explain american peopl chose lie truth histori major among today know well peopl power invent fact attack question mark begin end free societi offer hyperbol like mani peopl emerg hillari clinton embark upon long strang trip high school goldwat girl wellesley colleg republican presid democrat politician clinton drank time place gave degre significantli went idealist cynic comparison two wellesley commenc address show way back lament long leader view polit art possibl challeng practic polit art make appear imposs possibl big woman campu odd woman white hous wonder current station even possibl point ahead ask septemb may ask presid woman famous dub congenit liar bill safir conclud lie mind get stood elect day like find jilt bride wed day inspir danger delus'\n",
      " 'consortiumnew com truth might get fire octob tension intellig analyst polit policymak alway honest assess desir result latter often overwhelm former iraq war write lawrenc davidson lawrenc davidson might wonder foreign polici maker repeatedli make bad choic insight might drawn follow analysi action play unit state lesson probabl univers back earli spring georg w bush initi invas iraq one key public reason claim countri dictat saddam hussein verg develop nuclear weapon hide weapon mass destruct real reason went beyond charg includ long rang plan regim chang middl east presid georg w bush vice presid dick cheney receiv oval offic brief cia director georg tenet also present chief staff andi card right white hous photo purpos concentr belief iraq becom hostil nuclear power presid bush close associ accept scenario readili short answer bush want inde need believ rational invad iraq first tri connect saddam hussein attack u though never gave stratagem lack evid made difficult ralli american peopl alreadi fixat afghanistan support war baghdad nuclear weapon gambit prove fruit hard evid charg supposedli reliabl wit person exil anti saddam iraqi mani u govern payrol kept tell bush advis nuclear stori true u leadership cadr whose worldview liter demand mortal danger iraq inform order precipit overthrow saddam will tell tale pend atom weapon strong desir believ tale nuclear iraq lower threshold proof likewis repeat assert assum depend iraqi sourc underpin nationwid u campaign gener fear war fever u alli insist unit nation send weapon inspector scour iraq evid nuclear weapon program well chemic biolog weapon inspector could find convinc evid frustrat bush administr soon forc hand march bush launch invas iraq expect occup countri u inspector would sure find evid nuke least stockpil chemic biolog weapon iraqi inform systemat lie social behavior scienc rescu variou u intellig agenc thoroughli shaken affair today year later director manag still tri sort specif tell get true intellig lie one intellig worker put need help protect us armi snake oil salesmen end cia et al market academ assist ahm chalabi head iraqi nation congress key supplier iraqi defector bogu stori hidden wmd partnership forg offic director nation intellig odni serv coordin center sixteen independ u intellig agenc nation academi scienc engin medicin result collabor perman intellig commun studi board coordin program social behavior scienc research might strengthen nation secur despit effort almost certain social behavior scienc cannot give spi agenc want way detect lie better present standard procedur polygraph test interrog even could might well make differ real problem found liar found believ believ simpli true odni leader seem assert u intellig agenc personnel cannot tell often lie case thousand middl echelon intellig worker desk offic specialist know someth close approach truth know pretti well go place like afghanistan iraq syria libya israel palestin elsewher director nation intellig jame clapper right talk presid barack obama oval offic john brennan nation secur aid present photo credit offic director nation intellig therefor someon feed snake oil usual know howev accur grasp thing often avail superior got appoint accept pre structur worldview differ criterion true analyst listen charl gaukel nation intellig council yet anoth organ act meet ground intellig agenc refer search way avoid get taken lie gaukel declar look truth particularli look truth work might mean certainli tell mean histor mean power broker truth must match fit worldview polit ideolog precept fit work intellig specialist send usual accur assess line polici maker often hit roadblock caus group think ideolog blinker know better attitud hand long sell leadership match want believ peddl anyth imaginari iraqi nuke israel western style democraci saudi arabia indispens alli libya liber countri bashar al assad real roadblock peac syria strateg defens initi sdi aka star war world get colder warmer american exception glori list almost endless sad tale tell us want spend million dollar social behavior scienc research improv assess use intellig forget liar want look antidot narrow minded believ policymak seem abl rise ideolog presumpt class presumpt underpin self confid lead us slipperi slope happen way often mani place sourc shakespear determin past prelud elit play destini free capac break structur way see yet middl echelon specialist keep send rel accur assess ladder power hope spring etern'\n",
      " ...\n",
      " 'michael j de la merc rachel abram maci today grew union sever great name american retail includ namesak chain bloomingdal marshal field ambiti owner sak fifth avenu broach idea take union even combin maci creat depart store juggernaut time industri reel hudson bay compani canadian owner sak approach maci potenti takeov peopl brief matter author speak publicli said friday talk two compani earli stage may still fall apart lead partnership kind rather sale unclear whether deal happen combin could lift fortun maci countri biggest depart store struggl investor certainli appear see way share maci rose much percent friday biggest intraday gain sinc aug accord data bloomberg retail titan maci struggl remain relev discount retail decim tradit busi last month maci announc plan cut job close store terri lundgren chief execut architect maci last big merger expect step end march succeed compani presid jeffrey gennett sinc recess shopper grown accustom hunt bargain pay full price discount store outlet mall flourish tradit store compel respond trim price cut margin depart store hit especi hard particularli shopper migrat away mall emerg analyst say virtual race bottom particularli difficult maci born seri merger past two decad made juggernaut industri stalwart middl tier retail compani neither advantag retail like hm store addit maci face increasingli fierc competit onlin site like amazon elsewher maci troubl drawn attent promin activist hedg fund starboard valu urg compani gener cash sell real estat beneath store starboard held percent maci share sept previous estim valu land billion friday analyst citigroup estim maci hold could worth least billion maci market valu comparison billion friday morn maci taken step sell redevelop store last year ad expert real estat transact board compani larg resist ambiti effort divest real estat includ deal compani sell underli land beneath store rent back compani suitor hudson bay compani far smaller market valu billion canadian dollar billion known bold step hudson bay compani assembl grow empir includ hudson bay depart store chain lord taylor crown jewel sak governor execut chairman hudson bay compani richard baker shown littl fear use debt novemb compani borrow nearli billion sak flagship midtown manhattan spoken often retail need highlight valu real estat financ bid maci may trickier howev carri billion debt may mean hudson bay compani bring partner borrow real estat hold spokesman hudson bay compani declin comment talk report earlier wall street journal comment rumor specul repres maci said repres starboard valu respond request comment analyst said saw merit potenti combin particularli given maci oper woe mr baker expertis wring money real estat clear logic despit dispar cap maci hudson bay compani craig johnson presid custom growth partner research firm said note refer maci stock ticker symbol ad retail market chang faster abl keep whether flight mall migrat onlin'\n",
      " 'alex ansari nato russia hold parallel exercis balkan press tv russia militari nato forc hold parallel militari exercis two neighbor balkan countri russian troop particip war game serbia nato conduct militari drill montenegro media report monday russian forc day militari exercis serbia name slavic brotherhood begin wednesday includ russian paratroop air forc staffer three transport plane unspecifi number troop serbia belaru russia defens ministri said five day nato drill montenegro start monday involv respond flood chemic attack involv unarm personnel seven nato countri partner state past serbia montenegro constitut republ socialist feder republ yugoslavia countri socialist republ tradit russian christian orthodox alli state union form serbia montenegro two becam independ state sinc split two balkan neighbor seem head differ direct strateg montenegro taken pro western stanc award nato offer join northern atlant allianc nato invit montenegro met strong opposit russia meanwhil montenegrin offici accus russia stage alleg coup octob toppl pro western govern nato access bid serbia nato partner held exercis western allianc larg one foreign troop equip particip soil'\n",
      " 'david swanson david swanson author activist journalist radio host nobel peac prize nomine director worldbeyondwar com campaign coordin rootsact org host talk nation radio talk nation radio vt radio syndic pacifica network show also air wtju charlottesvil va wcsx detroit mi kghi westport wa whu storr ct wprr grand rapid mi krfp lp moscow id kzgm cabool mo kmud garbervil ca wazu peoria il wxrd crown point geneva radio geneva ny kkrn round mountain ca kskq lp ashland wuow lp oneonta ny lie radio pinol ca wyap lp clay wv detour johnson citi tn wzrd chicago il weft champaign il wxpi pittsburgh pa wdrt viroqua wi verac onlin liberti justic radio shirley ithaca commun radio ithaca ny wmcb greenfield prx org kao fm olympia wa wusb fm stoni brook ny wool fm bellow fall vermont wslr lp sarasota florida also blog davidswanson org warisacrim org prolif author latest book war lie daybreak undo imperi presid form perfect union world outlaw war swanson hold master degre philosophi univers virginia work newspap report commun director job includ press secretari denni kucinich presidenti campaign media coordin intern labor commun associ three year commun coordin acorn associ commun organ reform read full complet biographi davidswanson org also visit book site war crime keep f aliv david swanson octob petit stop f go global david swanson imagin local busi town invent brand new tool intend almost magic effect thousand mile away howev tool kept use local becam area unsaf children children got near tool tend increas blood pressur increas stress hormon lower read skill poorer memori impair auditori speech percept impair academ perform us would find situat least littl concern unless new invent design murder lot peopl fine imagin new tool ruin neighborhood peopl safe live near imagin govern compens peopl kick live near locat tool think might find troubl mass murder mission imagin also tool fairli frequent explod emit highli toxic chemic particl fiber unsaf breath air mile around normal problem tool need kill lot peopl work flaw new gadget expect cost least year money taken away numer expens benefici economi world trillion drain economi caus loss job radic diminuit resourc educ healthcar hous environment protect humanitarian aid worri case mean case abil kill ton human be stake product even work perfectli lead destroy earth natur environ high tech toy even design expect even abl design amazingli even shortcom matter long intent massiv murder destruct forgiven tool describ call f rootsact org find new petit launch local mind peopl act global place f intend base also link find explan tool decrib f petit direct unit state congress govern australia itali netherland norway turkey unit kingdom israel japan south korea world peopl burlington vermont fairbank alaska f base effort initi vermont stop f coalit save sky vermont western main matter alaska peac center univers alaska fairbank peac club north star chapter veteran peac world beyond war rootsact org code pink ben cohen petit read f weapon offens war serv defens purpos plan cost u trillion year starvat earth could end billion lack clean drink water billion per year first foremost wast resourc airplan kill militari spend contrari popular misconcept also hurt u economi see economi f caus neg health impact cognit impair children live near base render hous near airport unsuit residenti use high crash rate horribl consequ live area crash emiss major environment pollut war endang unit state particip nation rather protect nonviol tool law diplomaci aid crisi prevent verifi nuclear disarma substitut continu counterproduct war therefor undersign call immedi cancel f program whole immedi cancel plan base danger noisi jet near popul area oppos replac f weapon base f locat demand redirect money f back taxpay pocket environment human need u f custom nation around world includ fight climat chang pay student debt rebuild crumbl infrastructur improv educ healthcar hous add name david swanson author activist journalist radio host director worldbeyondwar org campaign coordin rootsact org swanson book includ war lie blog davidswanson org warisacrim org host talk nation radio nobel peac prize nomine follow twitter davidcnswanson facebook help support davidswanson org warisacrim org talknationradio org click http davidswanson org donat']\n"
     ]
    }
   ],
   "source": [
    "print(X)"
   ]
  },
  {
   "cell_type": "code",
   "execution_count": 116,
   "metadata": {
    "colab": {
     "base_uri": "https://localhost:8080/"
    },
    "executionInfo": {
     "elapsed": 16,
     "status": "ok",
     "timestamp": 1646333808699,
     "user": {
      "displayName": "adithya boyapati",
      "photoUrl": "https://lh3.googleusercontent.com/a-/AOh14GhIQeElodUU9wHHEavyJtIVK_ksz-Aeqc8RBSnHRg=s64",
      "userId": "00006628355764397558"
     },
     "user_tz": -330
    },
    "id": "cVS1DZ7N9fki",
    "outputId": "5f77da49-6ee3-476f-c6a9-8bea9c29329b"
   },
   "outputs": [
    {
     "data": {
      "text/plain": [
       "(20800,)"
      ]
     },
     "execution_count": 116,
     "metadata": {},
     "output_type": "execute_result"
    }
   ],
   "source": [
    "Y.shape"
   ]
  },
  {
   "cell_type": "code",
   "execution_count": 117,
   "metadata": {
    "executionInfo": {
     "elapsed": 10965,
     "status": "ok",
     "timestamp": 1646333821504,
     "user": {
      "displayName": "adithya boyapati",
      "photoUrl": "https://lh3.googleusercontent.com/a-/AOh14GhIQeElodUU9wHHEavyJtIVK_ksz-Aeqc8RBSnHRg=s64",
      "userId": "00006628355764397558"
     },
     "user_tz": -330
    },
    "id": "tJwKGaLt9h3T"
   },
   "outputs": [],
   "source": [
    "# converting the textual data to numerical data\n",
    "vectorizer= TfidfVectorizer(max_features = 5000)\n",
    "vectorizer.fit(X)\n",
    "\n",
    "X = vectorizer.transform(X)\n",
    "\n"
   ]
  },
  {
   "cell_type": "markdown",
   "metadata": {
    "id": "smKTDH7x9q2j"
   },
   "source": [
    "Splitting the dataset to training & test data"
   ]
  },
  {
   "cell_type": "code",
   "execution_count": 118,
   "metadata": {
    "executionInfo": {
     "elapsed": 57,
     "status": "ok",
     "timestamp": 1646333821505,
     "user": {
      "displayName": "adithya boyapati",
      "photoUrl": "https://lh3.googleusercontent.com/a-/AOh14GhIQeElodUU9wHHEavyJtIVK_ksz-Aeqc8RBSnHRg=s64",
      "userId": "00006628355764397558"
     },
     "user_tz": -330
    },
    "id": "ZBOdO_DL9rxx"
   },
   "outputs": [],
   "source": [
    "X_train, X_test, Y_train, Y_test = train_test_split(X, Y, test_size = 0.25, stratify=Y, random_state=2)"
   ]
  },
  {
   "cell_type": "markdown",
   "metadata": {
    "id": "QVkMAFxmFwbx"
   },
   "source": [
    "# Training model using Naive bayes classifier"
   ]
  },
  {
   "cell_type": "code",
   "execution_count": 119,
   "metadata": {
    "executionInfo": {
     "elapsed": 54,
     "status": "ok",
     "timestamp": 1646333821506,
     "user": {
      "displayName": "adithya boyapati",
      "photoUrl": "https://lh3.googleusercontent.com/a-/AOh14GhIQeElodUU9wHHEavyJtIVK_ksz-Aeqc8RBSnHRg=s64",
      "userId": "00006628355764397558"
     },
     "user_tz": -330
    },
    "id": "cXKJgtFlFP1N"
   },
   "outputs": [],
   "source": [
    "\n",
    "\n",
    "from sklearn.naive_bayes import MultinomialNB\n",
    "Fake_detect_model = MultinomialNB().fit(X_train, Y_train)"
   ]
  },
  {
   "cell_type": "code",
   "execution_count": 120,
   "metadata": {
    "executionInfo": {
     "elapsed": 52,
     "status": "ok",
     "timestamp": 1646333821506,
     "user": {
      "displayName": "adithya boyapati",
      "photoUrl": "https://lh3.googleusercontent.com/a-/AOh14GhIQeElodUU9wHHEavyJtIVK_ksz-Aeqc8RBSnHRg=s64",
      "userId": "00006628355764397558"
     },
     "user_tz": -330
    },
    "id": "h83USgWTFdqo"
   },
   "outputs": [],
   "source": [
    "y_pred=Fake_detect_model.predict(X_test)"
   ]
  },
  {
   "cell_type": "code",
   "execution_count": 121,
   "metadata": {
    "colab": {
     "base_uri": "https://localhost:8080/"
    },
    "executionInfo": {
     "elapsed": 51,
     "status": "ok",
     "timestamp": 1646333821507,
     "user": {
      "displayName": "adithya boyapati",
      "photoUrl": "https://lh3.googleusercontent.com/a-/AOh14GhIQeElodUU9wHHEavyJtIVK_ksz-Aeqc8RBSnHRg=s64",
      "userId": "00006628355764397558"
     },
     "user_tz": -330
    },
    "id": "kVEDXDAJFhsg",
    "outputId": "63520384-8c7b-4423-b236-5568a0caaacd"
   },
   "outputs": [
    {
     "name": "stdout",
     "output_type": "stream",
     "text": [
      "              precision    recall  f1-score   support\n",
      "\n",
      "           0       0.93      0.88      0.90      2741\n",
      "           1       0.87      0.93      0.90      2459\n",
      "\n",
      "    accuracy                           0.90      5200\n",
      "   macro avg       0.90      0.90      0.90      5200\n",
      "weighted avg       0.90      0.90      0.90      5200\n",
      "\n"
     ]
    }
   ],
   "source": [
    "print(classification_report(y_pred,Y_test))"
   ]
  },
  {
   "cell_type": "code",
   "execution_count": 122,
   "metadata": {
    "colab": {
     "base_uri": "https://localhost:8080/"
    },
    "executionInfo": {
     "elapsed": 46,
     "status": "ok",
     "timestamp": 1646333821508,
     "user": {
      "displayName": "adithya boyapati",
      "photoUrl": "https://lh3.googleusercontent.com/a-/AOh14GhIQeElodUU9wHHEavyJtIVK_ksz-Aeqc8RBSnHRg=s64",
      "userId": "00006628355764397558"
     },
     "user_tz": -330
    },
    "id": "BBkzQyr4Fmvm",
    "outputId": "6fd92d94-1523-4778-8658-3c2a6c9c4eba"
   },
   "outputs": [
    {
     "name": "stdout",
     "output_type": "stream",
     "text": [
      "[[2414  327]\n",
      " [ 183 2276]]\n"
     ]
    }
   ],
   "source": [
    "print(confusion_matrix(y_pred,Y_test))"
   ]
  },
  {
   "cell_type": "code",
   "execution_count": 123,
   "metadata": {
    "colab": {
     "base_uri": "https://localhost:8080/"
    },
    "executionInfo": {
     "elapsed": 38,
     "status": "ok",
     "timestamp": 1646333821509,
     "user": {
      "displayName": "adithya boyapati",
      "photoUrl": "https://lh3.googleusercontent.com/a-/AOh14GhIQeElodUU9wHHEavyJtIVK_ksz-Aeqc8RBSnHRg=s64",
      "userId": "00006628355764397558"
     },
     "user_tz": -330
    },
    "id": "TvN4GPSKFreG",
    "outputId": "c14fdbaa-226d-4ed0-d408-853ca3b56ae5"
   },
   "outputs": [
    {
     "name": "stdout",
     "output_type": "stream",
     "text": [
      "0.9019230769230769\n"
     ]
    }
   ],
   "source": [
    "print(accuracy_score(y_pred,Y_test))"
   ]
  },
  {
   "cell_type": "markdown",
   "metadata": {
    "id": "VQeTTHQYFzMi"
   },
   "source": [
    "# Training model using Logistic Regression"
   ]
  },
  {
   "cell_type": "code",
   "execution_count": 124,
   "metadata": {
    "executionInfo": {
     "elapsed": 1031,
     "status": "ok",
     "timestamp": 1646333822509,
     "user": {
      "displayName": "adithya boyapati",
      "photoUrl": "https://lh3.googleusercontent.com/a-/AOh14GhIQeElodUU9wHHEavyJtIVK_ksz-Aeqc8RBSnHRg=s64",
      "userId": "00006628355764397558"
     },
     "user_tz": -330
    },
    "id": "i2cTEJmgFt2o"
   },
   "outputs": [],
   "source": [
    "from sklearn.linear_model import LogisticRegression\n",
    "\n",
    "lr_model = LogisticRegression()\n",
    "lr_model.fit(X_train,Y_train)\n",
    "\n",
    "y1_pred = lr_model.predict(X_test)"
   ]
  },
  {
   "cell_type": "code",
   "execution_count": 125,
   "metadata": {
    "colab": {
     "base_uri": "https://localhost:8080/"
    },
    "executionInfo": {
     "elapsed": 35,
     "status": "ok",
     "timestamp": 1646333822510,
     "user": {
      "displayName": "adithya boyapati",
      "photoUrl": "https://lh3.googleusercontent.com/a-/AOh14GhIQeElodUU9wHHEavyJtIVK_ksz-Aeqc8RBSnHRg=s64",
      "userId": "00006628355764397558"
     },
     "user_tz": -330
    },
    "id": "TcTASB_YGHY6",
    "outputId": "2e33018d-e263-47b7-f639-57a4e8b51232"
   },
   "outputs": [
    {
     "name": "stdout",
     "output_type": "stream",
     "text": [
      "              precision    recall  f1-score   support\n",
      "\n",
      "           0       0.94      0.95      0.94      2564\n",
      "           1       0.95      0.94      0.95      2636\n",
      "\n",
      "    accuracy                           0.94      5200\n",
      "   macro avg       0.94      0.94      0.94      5200\n",
      "weighted avg       0.94      0.94      0.94      5200\n",
      "\n"
     ]
    }
   ],
   "source": [
    "print(classification_report(y1_pred,Y_test))"
   ]
  },
  {
   "cell_type": "code",
   "execution_count": 126,
   "metadata": {
    "colab": {
     "base_uri": "https://localhost:8080/"
    },
    "executionInfo": {
     "elapsed": 33,
     "status": "ok",
     "timestamp": 1646333822511,
     "user": {
      "displayName": "adithya boyapati",
      "photoUrl": "https://lh3.googleusercontent.com/a-/AOh14GhIQeElodUU9wHHEavyJtIVK_ksz-Aeqc8RBSnHRg=s64",
      "userId": "00006628355764397558"
     },
     "user_tz": -330
    },
    "id": "5YYfLtndGVkE",
    "outputId": "b5f7c5fe-3ec0-46d2-b012-e80bcad6501e"
   },
   "outputs": [
    {
     "name": "stdout",
     "output_type": "stream",
     "text": [
      "[[2437  127]\n",
      " [ 160 2476]]\n"
     ]
    }
   ],
   "source": [
    "print(confusion_matrix(y1_pred,Y_test))"
   ]
  },
  {
   "cell_type": "code",
   "execution_count": 127,
   "metadata": {
    "colab": {
     "base_uri": "https://localhost:8080/"
    },
    "executionInfo": {
     "elapsed": 25,
     "status": "ok",
     "timestamp": 1646333822512,
     "user": {
      "displayName": "adithya boyapati",
      "photoUrl": "https://lh3.googleusercontent.com/a-/AOh14GhIQeElodUU9wHHEavyJtIVK_ksz-Aeqc8RBSnHRg=s64",
      "userId": "00006628355764397558"
     },
     "user_tz": -330
    },
    "id": "rh0g3b59Gais",
    "outputId": "335d925d-9010-41e5-86a1-e75c9e7abbd3"
   },
   "outputs": [
    {
     "name": "stdout",
     "output_type": "stream",
     "text": [
      "0.9448076923076923\n"
     ]
    }
   ],
   "source": [
    "print(accuracy_score(y1_pred,Y_test))"
   ]
  },
  {
   "cell_type": "markdown",
   "metadata": {
    "id": "kHEMNs1eJnik"
   },
   "source": [
    "# Training model using Random Forest"
   ]
  },
  {
   "cell_type": "code",
   "execution_count": 132,
   "metadata": {
    "executionInfo": {
     "elapsed": 36685,
     "status": "ok",
     "timestamp": 1646334160252,
     "user": {
      "displayName": "adithya boyapati",
      "photoUrl": "https://lh3.googleusercontent.com/a-/AOh14GhIQeElodUU9wHHEavyJtIVK_ksz-Aeqc8RBSnHRg=s64",
      "userId": "00006628355764397558"
     },
     "user_tz": -330
    },
    "id": "PjgS2F_vGdyf"
   },
   "outputs": [],
   "source": [
    "from sklearn.ensemble import RandomForestClassifier\n",
    "\n",
    "rf = RandomForestClassifier(n_estimators=100)\n",
    "\n",
    "rf.fit(X_train,Y_train)\n",
    "y_pred2 = rf.predict(X_test)\n"
   ]
  },
  {
   "cell_type": "code",
   "execution_count": 133,
   "metadata": {
    "colab": {
     "base_uri": "https://localhost:8080/"
    },
    "executionInfo": {
     "elapsed": 357,
     "status": "ok",
     "timestamp": 1646334222022,
     "user": {
      "displayName": "adithya boyapati",
      "photoUrl": "https://lh3.googleusercontent.com/a-/AOh14GhIQeElodUU9wHHEavyJtIVK_ksz-Aeqc8RBSnHRg=s64",
      "userId": "00006628355764397558"
     },
     "user_tz": -330
    },
    "id": "IeBaOpXLJ_wC",
    "outputId": "dbd972da-3594-4b52-d811-9e1c4e142f03"
   },
   "outputs": [
    {
     "name": "stdout",
     "output_type": "stream",
     "text": [
      "              precision    recall  f1-score   support\n",
      "\n",
      "           0       0.96      0.94      0.95      2676\n",
      "           1       0.93      0.96      0.95      2524\n",
      "\n",
      "    accuracy                           0.95      5200\n",
      "   macro avg       0.95      0.95      0.95      5200\n",
      "weighted avg       0.95      0.95      0.95      5200\n",
      "\n"
     ]
    }
   ],
   "source": [
    "print(classification_report(y_pred2,Y_test))"
   ]
  },
  {
   "cell_type": "code",
   "execution_count": 134,
   "metadata": {
    "colab": {
     "base_uri": "https://localhost:8080/"
    },
    "executionInfo": {
     "elapsed": 4,
     "status": "ok",
     "timestamp": 1646334223871,
     "user": {
      "displayName": "adithya boyapati",
      "photoUrl": "https://lh3.googleusercontent.com/a-/AOh14GhIQeElodUU9wHHEavyJtIVK_ksz-Aeqc8RBSnHRg=s64",
      "userId": "00006628355764397558"
     },
     "user_tz": -330
    },
    "id": "iPvWUd6BKFyP",
    "outputId": "271b4182-b01d-4b17-887d-d97a58552ec9"
   },
   "outputs": [
    {
     "name": "stdout",
     "output_type": "stream",
     "text": [
      "[[2437  127]\n",
      " [ 160 2476]]\n"
     ]
    }
   ],
   "source": [
    "print(confusion_matrix(y1_pred,Y_test))"
   ]
  },
  {
   "cell_type": "code",
   "execution_count": 135,
   "metadata": {
    "colab": {
     "base_uri": "https://localhost:8080/"
    },
    "executionInfo": {
     "elapsed": 7,
     "status": "ok",
     "timestamp": 1646334225386,
     "user": {
      "displayName": "adithya boyapati",
      "photoUrl": "https://lh3.googleusercontent.com/a-/AOh14GhIQeElodUU9wHHEavyJtIVK_ksz-Aeqc8RBSnHRg=s64",
      "userId": "00006628355764397558"
     },
     "user_tz": -330
    },
    "id": "aG5U42f4KJbX",
    "outputId": "c5774f5e-8816-40ed-85a4-b509a520b9b8"
   },
   "outputs": [
    {
     "name": "stdout",
     "output_type": "stream",
     "text": [
      "0.9448076923076923\n"
     ]
    }
   ],
   "source": [
    "print(accuracy_score(y1_pred,Y_test))"
   ]
  },
  {
   "cell_type": "markdown",
   "metadata": {
    "id": "YyaTad-yLrLl"
   },
   "source": [
    "# Passive Aggressive Classifier Algorithm"
   ]
  },
  {
   "cell_type": "code",
   "execution_count": 143,
   "metadata": {
    "executionInfo": {
     "elapsed": 373,
     "status": "ok",
     "timestamp": 1646334633782,
     "user": {
      "displayName": "adithya boyapati",
      "photoUrl": "https://lh3.googleusercontent.com/a-/AOh14GhIQeElodUU9wHHEavyJtIVK_ksz-Aeqc8RBSnHRg=s64",
      "userId": "00006628355764397558"
     },
     "user_tz": -330
    },
    "id": "CQCTopNQKN8K"
   },
   "outputs": [],
   "source": [
    "from sklearn.linear_model import PassiveAggressiveClassifier\n",
    "linear_clf = PassiveAggressiveClassifier(max_iter=100)"
   ]
  },
  {
   "cell_type": "code",
   "execution_count": 144,
   "metadata": {
    "executionInfo": {
     "elapsed": 649,
     "status": "ok",
     "timestamp": 1646334635972,
     "user": {
      "displayName": "adithya boyapati",
      "photoUrl": "https://lh3.googleusercontent.com/a-/AOh14GhIQeElodUU9wHHEavyJtIVK_ksz-Aeqc8RBSnHRg=s64",
      "userId": "00006628355764397558"
     },
     "user_tz": -330
    },
    "id": "9g7jdaSULuyP"
   },
   "outputs": [],
   "source": [
    "linear_clf.fit(X_train, Y_train)\n",
    "pred = linear_clf.predict(X_test)\n",
    "\n"
   ]
  },
  {
   "cell_type": "code",
   "execution_count": 145,
   "metadata": {
    "colab": {
     "base_uri": "https://localhost:8080/"
    },
    "executionInfo": {
     "elapsed": 13,
     "status": "ok",
     "timestamp": 1646334637616,
     "user": {
      "displayName": "adithya boyapati",
      "photoUrl": "https://lh3.googleusercontent.com/a-/AOh14GhIQeElodUU9wHHEavyJtIVK_ksz-Aeqc8RBSnHRg=s64",
      "userId": "00006628355764397558"
     },
     "user_tz": -330
    },
    "id": "Ljy6_Z_GL5l6",
    "outputId": "0399362c-17cd-4f55-b3ca-913794d2fc4f"
   },
   "outputs": [
    {
     "name": "stdout",
     "output_type": "stream",
     "text": [
      "              precision    recall  f1-score   support\n",
      "\n",
      "           0       0.95      0.95      0.95      2601\n",
      "           1       0.95      0.95      0.95      2599\n",
      "\n",
      "    accuracy                           0.95      5200\n",
      "   macro avg       0.95      0.95      0.95      5200\n",
      "weighted avg       0.95      0.95      0.95      5200\n",
      "\n"
     ]
    }
   ],
   "source": [
    "print(classification_report(pred,Y_test))"
   ]
  },
  {
   "cell_type": "code",
   "execution_count": 146,
   "metadata": {
    "colab": {
     "base_uri": "https://localhost:8080/"
    },
    "executionInfo": {
     "elapsed": 384,
     "status": "ok",
     "timestamp": 1646334660672,
     "user": {
      "displayName": "adithya boyapati",
      "photoUrl": "https://lh3.googleusercontent.com/a-/AOh14GhIQeElodUU9wHHEavyJtIVK_ksz-Aeqc8RBSnHRg=s64",
      "userId": "00006628355764397558"
     },
     "user_tz": -330
    },
    "id": "kQ1KB5NkMHMh",
    "outputId": "1e965cc0-3b28-4191-8679-4571596ef3b0"
   },
   "outputs": [
    {
     "name": "stdout",
     "output_type": "stream",
     "text": [
      "[[2469  132]\n",
      " [ 128 2471]]\n"
     ]
    }
   ],
   "source": [
    "print(confusion_matrix(pred,Y_test))"
   ]
  },
  {
   "cell_type": "code",
   "execution_count": 147,
   "metadata": {
    "colab": {
     "base_uri": "https://localhost:8080/"
    },
    "executionInfo": {
     "elapsed": 486,
     "status": "ok",
     "timestamp": 1646334677702,
     "user": {
      "displayName": "adithya boyapati",
      "photoUrl": "https://lh3.googleusercontent.com/a-/AOh14GhIQeElodUU9wHHEavyJtIVK_ksz-Aeqc8RBSnHRg=s64",
      "userId": "00006628355764397558"
     },
     "user_tz": -330
    },
    "id": "UcnsCciqMUt3",
    "outputId": "e6f054b9-a18f-48af-9bb4-995c8e72e844"
   },
   "outputs": [
    {
     "name": "stdout",
     "output_type": "stream",
     "text": [
      "0.95\n"
     ]
    }
   ],
   "source": [
    "print(accuracy_score(pred,Y_test))"
   ]
  },
  {
   "cell_type": "code",
   "execution_count": 150,
   "metadata": {
    "executionInfo": {
     "elapsed": 9,
     "status": "ok",
     "timestamp": 1646335092160,
     "user": {
      "displayName": "adithya boyapati",
      "photoUrl": "https://lh3.googleusercontent.com/a-/AOh14GhIQeElodUU9wHHEavyJtIVK_ksz-Aeqc8RBSnHRg=s64",
      "userId": "00006628355764397558"
     },
     "user_tz": -330
    },
    "id": "WmtV8afbMY0U"
   },
   "outputs": [],
   "source": [
    "import pickle\n",
    "pickle.dump(linear_clf,open('/content/drive/MyDrive/Colab Notebooks/Fake News Classifier/fake_classifier.pkl','wb'))"
   ]
  },
  {
   "cell_type": "code",
   "execution_count": 7,
   "metadata": {
    "id": "rJaO8JXGNvn3"
   },
   "outputs": [
    {
     "name": "stderr",
     "output_type": "stream",
     "text": [
      "C:\\Users\\Adithya\\anaconda3\\lib\\site-packages\\sklearn\\base.py:329: UserWarning: Trying to unpickle estimator PassiveAggressiveClassifier from version 1.0.2 when using version 0.23.2. This might lead to breaking code or invalid results. Use at your own risk.\n",
      "  warnings.warn(\n"
     ]
    }
   ],
   "source": [
    "import pickle\n",
    "loaded_model = pickle.load(open('fake_classifier.pkl', 'rb'))"
   ]
  },
  {
   "cell_type": "code",
   "execution_count": 9,
   "metadata": {},
   "outputs": [],
   "source": [
    "sentence = 'If at first you donâ€™t succeed, try a different sport. Tim Tebow, who was a Heisman   quarterback at the University of Florida but was unable to hold an N. F. L. job, is pursuing a career in Major League Baseball. He will hold a workout for M. L. B. teams this month, his agents told ESPN and other news outlets. â€œThis may sound like a publicity stunt, but nothing could be further from the truth,â€ said Brodie Van Wagenen,   of CAA Baseball, part of the sports agency CAA Sports, in the statement. â€œI have seen Timâ€™s workouts, and people inside and outside the industry  â€”   scouts, executives, players and fans  â€”   will be impressed by his talent. â€ Itâ€™s been over a decade since Tebow, 28, has played baseball full time, which means a comeback would be no easy task. But the former major league catcher Chad Moeller, who said in the statement that he had been training Tebow in Arizona, said he was â€œbeyond impressed with Timâ€™s athleticism and swing. â€ â€œI see bat speed and power and real baseball talent,â€ Moeller said. â€œI truly believe Tim has the skill set and potential to achieve his goal of playing in the major leagues and based on what I have seen over the past two months, it could happen relatively quickly. â€ Or, take it from Gary Sheffield, the former   outfielder. News of Tebowâ€™s attempted comeback in baseball was greeted with skepticism on Twitter. As a junior at Nease High in Ponte Vedra, Fla. Tebow drew the attention of major league scouts, batting . 494 with four home runs as a left fielder. But he ditched the bat and glove in favor of pigskin, leading Florida to two national championships, in 2007 and 2009. Two former scouts for the Los Angeles Angels told WEEI, a Boston radio station, that Tebow had been under consideration as a high school junior. â€œâ€™x80â€™x9cWe wanted to draft him, â€™x80â€™x9cbut he never sent back his information card,â€ said one of the scouts, Tom Kotchman, referring to a questionnaire the team had sent him. â€œHe had a strong arm and had a lot of power,â€ said the other scout, Stephen Hargett. â€œIf he would have been there his senior year he definitely would have had a good chance to be drafted. â€ â€œIt was just easy for him,â€ Hargett added. â€œYou thought, If this guy dedicated everything to baseball like he did to football how good could he be?â€ Tebowâ€™s high school baseball coach, Greg Mullins, told The Sporting News in 2013 that he believed Tebow could have made the major leagues. â€œHe was the leader of the team with his passion, his fire and his energy,â€ Mullins said. â€œHe loved to play baseball, too. He just had a bigger fire for football. â€ Tebow wouldnâ€™t be the first athlete to switch from the N. F. L. to M. L. B. Bo Jackson had one   season as a Kansas City Royal, and Deion Sanders played several years for the Atlanta Braves with mixed success. Though Michael Jordan tried to cross over to baseball from basketball as a    in 1994, he did not fare as well playing one year for a Chicago White Sox minor league team. As a football player, Tebow was unable to match his college success in the pros. The Denver Broncos drafted him in the first round of the 2010 N. F. L. Draft, and he quickly developed a reputation for clutch performances, including a memorable   pass against the Pittsburgh Steelers in the 2011 Wild Card round. But his stats and his passing form werenâ€™t pretty, and he spent just two years in Denver before moving to the Jets in 2012, where he spent his last season on an N. F. L. roster. He was cut during preseason from the New England Patriots in 2013 and from the Philadelphia Eagles in 2015.'"
   ]
  },
  {
   "cell_type": "code",
   "execution_count": 10,
   "metadata": {},
   "outputs": [],
   "source": [
    "port_stem = PorterStemmer()"
   ]
  },
  {
   "cell_type": "code",
   "execution_count": 11,
   "metadata": {},
   "outputs": [],
   "source": [
    "def stemming(content):\n",
    "    stemmed_content = re.sub('[^a-zA-Z]',' ',content)\n",
    "    stemmed_content = stemmed_content.lower()\n",
    "    stemmed_content = stemmed_content.split()\n",
    "    stemmed_content = [port_stem.stem(word) for word in stemmed_content if not word in stopwords.words('english')]\n",
    "    stemmed_content = ' '.join(stemmed_content)\n",
    "    return stemmed_content"
   ]
  },
  {
   "cell_type": "code",
   "execution_count": 12,
   "metadata": {},
   "outputs": [],
   "source": [
    "sentence = stemming(sentence)"
   ]
  },
  {
   "cell_type": "code",
   "execution_count": 13,
   "metadata": {},
   "outputs": [
    {
     "name": "stderr",
     "output_type": "stream",
     "text": [
      "C:\\Users\\Adithya\\anaconda3\\lib\\site-packages\\sklearn\\base.py:329: UserWarning: Trying to unpickle estimator TfidfTransformer from version 1.0.2 when using version 0.23.2. This might lead to breaking code or invalid results. Use at your own risk.\n",
      "  warnings.warn(\n",
      "C:\\Users\\Adithya\\anaconda3\\lib\\site-packages\\sklearn\\base.py:329: UserWarning: Trying to unpickle estimator TfidfVectorizer from version 1.0.2 when using version 0.23.2. This might lead to breaking code or invalid results. Use at your own risk.\n",
      "  warnings.warn(\n"
     ]
    }
   ],
   "source": [
    "tfid_transformer = pickle.load(open('transformer.pkl','rb'))\n",
    "sentence = stemming(sentence)"
   ]
  },
  {
   "cell_type": "code",
   "execution_count": 14,
   "metadata": {},
   "outputs": [
    {
     "data": {
      "text/plain": [
       "'first succeed tri differ sport tim tebow heisman quarterback univ florida unabl hold n f l job pursu career major leagu baseb hold workout l b team month agent told espn news outlet may sound like public stunt noth could truth said brodi van wagenen caa baseb part sport agenc caa sport statement seen tim workout peopl insid outsid industri scout execut player fan impress talent decad sinc tebow play baseb full time mean comeback would easi task former major leagu catcher chad moeller said statement train tebow arizona said beyond impress tim athlet swing see bat speed power real baseb talent moeller said truli believ tim skill set potenti achiev goal play major leagu base seen past two month could happen rel quickli take gari sheffield former outfield news tebow attempt comeback baseb greet skeptic twitter junior nea high pont vedra fla tebow drew attent major leagu scout bat four home run left fielder ditch bat glove favor pigskin lead florida two nation championship two former scout lo angel angel told weei boston radio station tebow consid high school junior x x cwe want draft x x cbut never sent back inform card said one scout tom kotchman refer questionnair team sent strong arm lot power said scout stephen hargett would senior year definit would good chanc draft easi hargett ad thought guy dedic everyth baseb like footbal good could tebow high school baseb coach greg mullin told sport news believ tebow could made major leagu leader team passion fire energi mullin said love play baseb bigger fire footbal tebow first athlet switch n f l l b bo jackson one season kansa citi royal deion sander play sever year atlanta brave mix success though michael jordan tri cross baseb basketb fare well play one year chicago white sox minor leagu team footbal player tebow unabl match colleg success pro denver bronco draft first round n f l draft quickli develop reput clutch perform includ memor pass pittsburgh steeler wild card round stat pass form pretti spent two year denver move jet spent last season n f l roster cut preseason new england patriot philadelphia eagl'"
      ]
     },
     "execution_count": 14,
     "metadata": {},
     "output_type": "execute_result"
    }
   ],
   "source": [
    "sentence"
   ]
  },
  {
   "cell_type": "code",
   "execution_count": 15,
   "metadata": {},
   "outputs": [],
   "source": [
    "sentence = tfid_transformer.transform([sentence])"
   ]
  },
  {
   "cell_type": "code",
   "execution_count": 16,
   "metadata": {},
   "outputs": [
    {
     "data": {
      "text/plain": [
       "<1x5000 sparse matrix of type '<class 'numpy.float64'>'\n",
       "\twith 183 stored elements in Compressed Sparse Row format>"
      ]
     },
     "execution_count": 16,
     "metadata": {},
     "output_type": "execute_result"
    }
   ],
   "source": [
    "sentence"
   ]
  },
  {
   "cell_type": "code",
   "execution_count": 17,
   "metadata": {},
   "outputs": [
    {
     "data": {
      "text/plain": [
       "array([0], dtype=int64)"
      ]
     },
     "execution_count": 17,
     "metadata": {},
     "output_type": "execute_result"
    }
   ],
   "source": [
    "loaded_model.predict(sentence)"
   ]
  },
  {
   "cell_type": "code",
   "execution_count": null,
   "metadata": {},
   "outputs": [],
   "source": []
  }
 ],
 "metadata": {
  "accelerator": "GPU",
  "colab": {
   "authorship_tag": "ABX9TyNezlYGQQJFu8/3lAZ0Yz8d",
   "collapsed_sections": [],
   "mount_file_id": "13X3qR4Uf_pbM8D83arOlGjHnDbQqtV7C",
   "name": "Fake_news_classifier.ipynb",
   "provenance": []
  },
  "kernelspec": {
   "display_name": "Python 3",
   "language": "python",
   "name": "python3"
  },
  "language_info": {
   "codemirror_mode": {
    "name": "ipython",
    "version": 3
   },
   "file_extension": ".py",
   "mimetype": "text/x-python",
   "name": "python",
   "nbconvert_exporter": "python",
   "pygments_lexer": "ipython3",
   "version": "3.8.5"
  }
 },
 "nbformat": 4,
 "nbformat_minor": 1
}
